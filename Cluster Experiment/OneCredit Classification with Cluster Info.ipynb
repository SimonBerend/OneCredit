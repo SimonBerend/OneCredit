{
 "cells": [
  {
   "cell_type": "markdown",
   "metadata": {},
   "source": [
    "# Libraries"
   ]
  },
  {
   "cell_type": "code",
   "execution_count": 2,
   "metadata": {},
   "outputs": [],
   "source": [
    "# Imports\n",
    "# numpy,pandas,scipy, math, matplotlib\n",
    "import numpy as np\n",
    "import pandas as pd\n",
    "import scipy\n",
    "from math import sqrt\n",
    "import matplotlib.pyplot as plt\n",
    "\n",
    "import seaborn as sns\n",
    "\n",
    "from matplotlib.colors import ListedColormap\n",
    "\n",
    "# for KNN\n",
    "from sklearn import neighbors, datasets\n",
    "\n",
    "# for class variables\n",
    "from sklearn.preprocessing import OneHotEncoder\n",
    "\n",
    "# Model metrics\n",
    "from sklearn.model_selection import cross_val_score\n",
    "\n",
    "from sklearn.metrics import accuracy_score\n",
    "from sklearn.metrics import cohen_kappa_score\n",
    "from sklearn.metrics import confusion_matrix\n",
    "\n",
    "# Cross validation\n",
    "from sklearn.model_selection import train_test_split\n",
    "\n",
    "# Random\n",
    "import random"
   ]
  },
  {
   "cell_type": "markdown",
   "metadata": {},
   "source": [
    "# Import Data"
   ]
  },
  {
   "cell_type": "code",
   "execution_count": 3,
   "metadata": {},
   "outputs": [],
   "source": [
    "# Import Data\n",
    "# clean credit\n",
    "credit = pd.read_csv('Data/creditClean.csv')\n",
    "\n",
    "# dummified clusters\n",
    "dummies = pd.read_csv('Data/clusterDummies.csv')\n",
    "\n"
   ]
  },
  {
   "cell_type": "code",
   "execution_count": 4,
   "metadata": {},
   "outputs": [],
   "source": [
    "# concatenate: credit - dummies\n",
    "creditCluster = pd.concat([credit, dummies.iloc[:, 1:8]], axis=1, sort=False)"
   ]
  },
  {
   "cell_type": "markdown",
   "metadata": {},
   "source": [
    "# Prepare Model"
   ]
  },
  {
   "cell_type": "code",
   "execution_count": 5,
   "metadata": {},
   "outputs": [],
   "source": [
    "# set seed\n",
    "random.seed(123)\n",
    "np.random.seed(123)"
   ]
  },
  {
   "cell_type": "code",
   "execution_count": 6,
   "metadata": {},
   "outputs": [
    {
     "name": "stdout",
     "output_type": "stream",
     "text": [
      "training set looks like: (22500, 27), and the testing set like: (7500, 27)\n"
     ]
    }
   ],
   "source": [
    "# Select dependent variables\n",
    "indepVars = creditCluster.drop(['Default'], axis = 1)\n",
    "\n",
    "# Dependent variable\n",
    "depVar = creditCluster.loc[: , ['Default']]\n",
    "\n",
    "x_train, x_test, y_train, y_test = train_test_split(indepVars, depVar, test_size = 0.25)\n",
    "print('training set looks like:', str(x_train.shape) + ', and the testing set like:', str(x_test.shape))"
   ]
  },
  {
   "cell_type": "code",
   "execution_count": 7,
   "metadata": {},
   "outputs": [],
   "source": [
    "# KNN Model\n",
    "\n",
    "# Create an instance of Neighbours Classifier\n",
    "knn_model = neighbors.KNeighborsClassifier(n_neighbors = 10)\n",
    "\n",
    "# Fit that to the train data\n",
    "# Note: the model expects an array as y variable (df['array'])\n",
    "credit_knn = knn_model.fit(x_train, y_train['Default'])"
   ]
  },
  {
   "cell_type": "code",
   "execution_count": 8,
   "metadata": {},
   "outputs": [
    {
     "name": "stdout",
     "output_type": "stream",
     "text": [
      "Accuracy : 77.87%\n",
      "Kappa : 7.59%\n"
     ]
    }
   ],
   "source": [
    "# make predictions\n",
    "predictions = credit_knn.predict(x_test)\n",
    "\n",
    "# Check performance\n",
    "accuracy = accuracy_score(predictions, y_test)\n",
    "kappa = cohen_kappa_score(predictions, y_test)\n",
    "print (\"Accuracy : %s\" % \"{0:.2%}\".format(accuracy))\n",
    "print (\"Kappa : %s\" % \"{0:.2%}\".format(kappa))"
   ]
  },
  {
   "cell_type": "code",
   "execution_count": null,
   "metadata": {},
   "outputs": [],
   "source": [
    "# Confusion Matrix\n",
    "\n",
    "# First, change 0/1 into 'Pay'/'Default'\n",
    "# for df y_test:\n",
    "default_int_to_object = {0: 'Pay', 1: 'Default'}\n",
    "y_test_obj = y_test.replace(default_int_to_object)\n",
    "# for array predictions\n",
    "predictions_obj = ['Default' if x == 1 else 'Pay' for x in predictions]\n",
    "\n",
    "# Labels\n",
    "labels = ['Pay', 'Default']\n",
    "\n",
    "cm = confusion_matrix(y_true = y_test_obj,\n",
    "                      y_pred = predictions_obj,\n",
    "                      labels = labels)\n",
    "print(cm)\n",
    "\n",
    "\n",
    "fig = plt.figure()\n",
    "ax = fig.add_subplot(111)\n",
    "cax = ax.matshow(cm)\n",
    "plt.title('Name of Confusion Matrix')\n",
    "fig.colorbar(cax)\n",
    "ax.set_xticklabels([''] + labels)\n",
    "ax.set_yticklabels([''] + labels)\n",
    "plt.xlabel('Predicted')\n",
    "plt.ylabel('True')\n",
    "plt.show()"
   ]
  }
 ],
 "metadata": {
  "kernelspec": {
   "display_name": "Python 3",
   "language": "python",
   "name": "python3"
  },
  "language_info": {
   "codemirror_mode": {
    "name": "ipython",
    "version": 3
   },
   "file_extension": ".py",
   "mimetype": "text/x-python",
   "name": "python",
   "nbconvert_exporter": "python",
   "pygments_lexer": "ipython3",
   "version": "3.7.4"
  },
  "varInspector": {
   "cols": {
    "lenName": 16,
    "lenType": 16,
    "lenVar": 40
   },
   "kernels_config": {
    "python": {
     "delete_cmd_postfix": "",
     "delete_cmd_prefix": "del ",
     "library": "var_list.py",
     "varRefreshCmd": "print(var_dic_list())"
    },
    "r": {
     "delete_cmd_postfix": ") ",
     "delete_cmd_prefix": "rm(",
     "library": "var_list.r",
     "varRefreshCmd": "cat(var_dic_list()) "
    }
   },
   "types_to_exclude": [
    "module",
    "function",
    "builtin_function_or_method",
    "instance",
    "_Feature"
   ],
   "window_display": false
  }
 },
 "nbformat": 4,
 "nbformat_minor": 2
}
