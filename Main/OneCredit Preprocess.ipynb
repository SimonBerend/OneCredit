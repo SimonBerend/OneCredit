{
 "cells": [
  {
   "cell_type": "markdown",
   "metadata": {},
   "source": [
    "# Libraries"
   ]
  },
  {
   "cell_type": "code",
   "execution_count": 1,
   "metadata": {},
   "outputs": [],
   "source": [
    "import pandas as pd\n",
    "import matplotlib.pyplot as plt\n",
    "import seaborn as sns\n",
    "import numpy as np"
   ]
  },
  {
   "cell_type": "markdown",
   "metadata": {},
   "source": [
    "# Import Data"
   ]
  },
  {
   "cell_type": "code",
   "execution_count": 58,
   "metadata": {},
   "outputs": [],
   "source": [
    "# Import Raw Data\n",
    "credit = pd.read_csv('Data/default of credit card clients.csv', \n",
    "                     header = 1)"
   ]
  },
  {
   "cell_type": "markdown",
   "metadata": {},
   "source": [
    "# Data Ordering\n",
    "#### See 'Exploration' for backing analyses"
   ]
  },
  {
   "cell_type": "code",
   "execution_count": 59,
   "metadata": {},
   "outputs": [],
   "source": [
    "# rename varuables :\n",
    "# that ridiculous last column name to something workable\n",
    "# PAY_.. etc to Status Month\n",
    "# BILL_AMT.. to Bill Month\n",
    "# PAY_AMT.. to Paid Month\n",
    "credit.rename(columns = {'LIMIT_BAL' : 'Limit',\n",
    "                         'SEX': 'Sex',\n",
    "                         'EDUCATION': 'Education',\n",
    "                         'MARRIAGE': 'Marriage',\n",
    "                         'AGE': 'Age',\n",
    "                         'default payment next month': 'Default',\n",
    "                         'PAY_0': 'StatusSep', 'PAY_2': 'StatusAug', 'PAY_3': 'StatusJul',\n",
    "                         'PAY_4': 'StatusJun', 'PAY_5': 'StatusMay', 'PAY_6': 'StatusApr',\n",
    "                         'BILL_AMT1': 'BillSep', 'BILL_AMT2': 'BillAug', 'BILL_AMT3': 'BillJul',\n",
    "                         'BILL_AMT4': 'BillJun', 'BILL_AMT5': 'BillMay', 'BILL_AMT6': 'BillApr',\n",
    "                         'PAY_AMT1': 'PaidSep', 'PAY_AMT2': 'PaidAug', 'PAY_AMT3': 'PaidJul',\n",
    "                         'PAY_AMT4': 'PaidJun', 'PAY_AMT5': 'PaidMay', 'PAY_AMT6': 'PaidApr',\n",
    "                        },\n",
    "                  inplace = True)"
   ]
  },
  {
   "cell_type": "code",
   "execution_count": 60,
   "metadata": {},
   "outputs": [],
   "source": [
    "# Change the 'Education' values\n",
    "# 0 = NA\n",
    "# 4, 5, 6 = Other\n",
    "# Change all above to 4 and intepret as Other/NA\n",
    "# Assumption : In general, the order (1 > 2 > 3 > 4) will hold\n",
    "credit['Education'] = credit['Education'].replace([0 , 5, 6], 4)"
   ]
  },
  {
   "cell_type": "code",
   "execution_count": 61,
   "metadata": {},
   "outputs": [],
   "source": [
    "# Change the 'Marriage' values\n",
    "# 0 = NA\n",
    "# 1 = Married\n",
    "# 2 = Single\n",
    "# 3 = Other\n",
    "# Note : both NA and Other groups are small\n",
    "# Change 3 and 2 to 0, making two groups: Maried (1) or (probably) not (0)\n",
    "credit['Marriage'].replace([2, 3], 0, inplace = True)\n",
    "\n",
    "# Additionally : by setting it to a 0/1 value, pyhton reads it as a factor,\n",
    "# and further dummification is not needed."
   ]
  },
  {
   "cell_type": "markdown",
   "metadata": {},
   "source": [
    "# Feature Engineering"
   ]
  },
  {
   "cell_type": "code",
   "execution_count": 62,
   "metadata": {},
   "outputs": [
    {
     "name": "stdout",
     "output_type": "stream",
     "text": [
      "Wall time: 1min 12s\n"
     ]
    }
   ],
   "source": [
    "%%time\n",
    "# Create a variable :\n",
    "# sum of the times that the payment is delayed\n",
    "\n",
    "# for every row in credit\n",
    "# 'SumDelay' = the sum of times when payements where delayed \n",
    "# (indiscriminatory of the amount of months a payment was delayed)\n",
    "for i in range(len(credit)):\n",
    "    credit.loc[i , 'timesDelay'] =  sum(credit.loc[i , 'StatusSep': 'StatusApr'] > 0)\n",
    "    \n"
   ]
  },
  {
   "cell_type": "code",
   "execution_count": 63,
   "metadata": {},
   "outputs": [
    {
     "name": "stdout",
     "output_type": "stream",
     "text": [
      "Wall time: 2.16 s\n"
     ]
    }
   ],
   "source": [
    "%%time\n",
    "# Create a variable : \n",
    "# sum of status > 0 of the last three months\n",
    "# this gives a bit of additional info about the status of last months\n",
    "# Note : sum of all statusses is collinear with the 'timesDelay' variable\n",
    "\n",
    "\n",
    "\n",
    "# get names of relevant columns\n",
    "columnsStatus = list(credit.loc[: , 'StatusSep': 'StatusJul'].columns) \n",
    "\n",
    "\n",
    "# for every observation in credit\n",
    "    # culculate the sum of (columns in columnsStatus > 0)\n",
    "sumStatus = []\n",
    "\n",
    "for i in range(len(credit)):\n",
    "    \n",
    "    rowStatus = []\n",
    "    \n",
    "    for j in columnsStatus:\n",
    "        if credit.loc[i , j] > 0:\n",
    "            rowStatus.append(credit.loc[i , j])\n",
    "    \n",
    "    sumStatus.append(sum(rowStatus))\n",
    "    \n",
    "credit['sumStatus'] = sumStatus"
   ]
  },
  {
   "cell_type": "markdown",
   "metadata": {},
   "source": [
    "# Feature Selection"
   ]
  },
  {
   "cell_type": "code",
   "execution_count": 64,
   "metadata": {},
   "outputs": [],
   "source": [
    "# keep relevant features\n",
    "credit = credit.loc[:, ['Limit', 'StatusSep', 'StatusAug', 'timesDelay', 'sumStatus', 'Default']]"
   ]
  },
  {
   "cell_type": "code",
   "execution_count": 66,
   "metadata": {},
   "outputs": [],
   "source": [
    "# Save the resulting data set\n",
    "credit.to_csv('Data/creditOne.csv', index = False)"
   ]
  },
  {
   "cell_type": "markdown",
   "metadata": {},
   "source": [
    "# Confusion Matrix"
   ]
  },
  {
   "cell_type": "code",
   "execution_count": 65,
   "metadata": {},
   "outputs": [
    {
     "data": {
      "text/html": [
       "<style  type=\"text/css\" >\n",
       "    #T_7f9c2086_49b1_11ea_97aa_c8348e0fc477row0_col0 {\n",
       "            background-color:  #800000;\n",
       "            color:  #f1f1f1;\n",
       "        }    #T_7f9c2086_49b1_11ea_97aa_c8348e0fc477row0_col1 {\n",
       "            background-color:  #3131ff;\n",
       "            color:  #f1f1f1;\n",
       "        }    #T_7f9c2086_49b1_11ea_97aa_c8348e0fc477row0_col2 {\n",
       "            background-color:  #2525ff;\n",
       "            color:  #f1f1f1;\n",
       "        }    #T_7f9c2086_49b1_11ea_97aa_c8348e0fc477row0_col3 {\n",
       "            background-color:  #4545ff;\n",
       "            color:  #f1f1f1;\n",
       "        }    #T_7f9c2086_49b1_11ea_97aa_c8348e0fc477row0_col4 {\n",
       "            background-color:  #5151ff;\n",
       "            color:  #f1f1f1;\n",
       "        }    #T_7f9c2086_49b1_11ea_97aa_c8348e0fc477row0_col5 {\n",
       "            background-color:  #7575ff;\n",
       "            color:  #000000;\n",
       "        }    #T_7f9c2086_49b1_11ea_97aa_c8348e0fc477row1_col0 {\n",
       "            background-color:  #3131ff;\n",
       "            color:  #f1f1f1;\n",
       "        }    #T_7f9c2086_49b1_11ea_97aa_c8348e0fc477row1_col1 {\n",
       "            background-color:  #800000;\n",
       "            color:  #f1f1f1;\n",
       "        }    #T_7f9c2086_49b1_11ea_97aa_c8348e0fc477row1_col2 {\n",
       "            background-color:  #dc0000;\n",
       "            color:  #f1f1f1;\n",
       "        }    #T_7f9c2086_49b1_11ea_97aa_c8348e0fc477row1_col3 {\n",
       "            background-color:  #e60000;\n",
       "            color:  #f1f1f1;\n",
       "        }    #T_7f9c2086_49b1_11ea_97aa_c8348e0fc477row1_col4 {\n",
       "            background-color:  #d20000;\n",
       "            color:  #f1f1f1;\n",
       "        }    #T_7f9c2086_49b1_11ea_97aa_c8348e0fc477row1_col5 {\n",
       "            background-color:  #ff7d7d;\n",
       "            color:  #000000;\n",
       "        }    #T_7f9c2086_49b1_11ea_97aa_c8348e0fc477row2_col0 {\n",
       "            background-color:  #2525ff;\n",
       "            color:  #f1f1f1;\n",
       "        }    #T_7f9c2086_49b1_11ea_97aa_c8348e0fc477row2_col1 {\n",
       "            background-color:  #dc0000;\n",
       "            color:  #f1f1f1;\n",
       "        }    #T_7f9c2086_49b1_11ea_97aa_c8348e0fc477row2_col2 {\n",
       "            background-color:  #800000;\n",
       "            color:  #f1f1f1;\n",
       "        }    #T_7f9c2086_49b1_11ea_97aa_c8348e0fc477row2_col3 {\n",
       "            background-color:  #de0000;\n",
       "            color:  #f1f1f1;\n",
       "        }    #T_7f9c2086_49b1_11ea_97aa_c8348e0fc477row2_col4 {\n",
       "            background-color:  #ca0000;\n",
       "            color:  #f1f1f1;\n",
       "        }    #T_7f9c2086_49b1_11ea_97aa_c8348e0fc477row2_col5 {\n",
       "            background-color:  #ff9d9d;\n",
       "            color:  #000000;\n",
       "        }    #T_7f9c2086_49b1_11ea_97aa_c8348e0fc477row3_col0 {\n",
       "            background-color:  #4545ff;\n",
       "            color:  #f1f1f1;\n",
       "        }    #T_7f9c2086_49b1_11ea_97aa_c8348e0fc477row3_col1 {\n",
       "            background-color:  #e60000;\n",
       "            color:  #f1f1f1;\n",
       "        }    #T_7f9c2086_49b1_11ea_97aa_c8348e0fc477row3_col2 {\n",
       "            background-color:  #de0000;\n",
       "            color:  #f1f1f1;\n",
       "        }    #T_7f9c2086_49b1_11ea_97aa_c8348e0fc477row3_col3 {\n",
       "            background-color:  #800000;\n",
       "            color:  #f1f1f1;\n",
       "        }    #T_7f9c2086_49b1_11ea_97aa_c8348e0fc477row3_col4 {\n",
       "            background-color:  #9e0000;\n",
       "            color:  #f1f1f1;\n",
       "        }    #T_7f9c2086_49b1_11ea_97aa_c8348e0fc477row3_col5 {\n",
       "            background-color:  #ff5151;\n",
       "            color:  #000000;\n",
       "        }    #T_7f9c2086_49b1_11ea_97aa_c8348e0fc477row4_col0 {\n",
       "            background-color:  #5151ff;\n",
       "            color:  #f1f1f1;\n",
       "        }    #T_7f9c2086_49b1_11ea_97aa_c8348e0fc477row4_col1 {\n",
       "            background-color:  #d20000;\n",
       "            color:  #f1f1f1;\n",
       "        }    #T_7f9c2086_49b1_11ea_97aa_c8348e0fc477row4_col2 {\n",
       "            background-color:  #ca0000;\n",
       "            color:  #f1f1f1;\n",
       "        }    #T_7f9c2086_49b1_11ea_97aa_c8348e0fc477row4_col3 {\n",
       "            background-color:  #9e0000;\n",
       "            color:  #f1f1f1;\n",
       "        }    #T_7f9c2086_49b1_11ea_97aa_c8348e0fc477row4_col4 {\n",
       "            background-color:  #800000;\n",
       "            color:  #f1f1f1;\n",
       "        }    #T_7f9c2086_49b1_11ea_97aa_c8348e0fc477row4_col5 {\n",
       "            background-color:  #ff5959;\n",
       "            color:  #000000;\n",
       "        }    #T_7f9c2086_49b1_11ea_97aa_c8348e0fc477row5_col0 {\n",
       "            background-color:  #7575ff;\n",
       "            color:  #000000;\n",
       "        }    #T_7f9c2086_49b1_11ea_97aa_c8348e0fc477row5_col1 {\n",
       "            background-color:  #ff7d7d;\n",
       "            color:  #000000;\n",
       "        }    #T_7f9c2086_49b1_11ea_97aa_c8348e0fc477row5_col2 {\n",
       "            background-color:  #ff9d9d;\n",
       "            color:  #000000;\n",
       "        }    #T_7f9c2086_49b1_11ea_97aa_c8348e0fc477row5_col3 {\n",
       "            background-color:  #ff5151;\n",
       "            color:  #000000;\n",
       "        }    #T_7f9c2086_49b1_11ea_97aa_c8348e0fc477row5_col4 {\n",
       "            background-color:  #ff5959;\n",
       "            color:  #000000;\n",
       "        }    #T_7f9c2086_49b1_11ea_97aa_c8348e0fc477row5_col5 {\n",
       "            background-color:  #800000;\n",
       "            color:  #f1f1f1;\n",
       "        }</style><table id=\"T_7f9c2086_49b1_11ea_97aa_c8348e0fc477\" ><thead>    <tr>        <th class=\"blank level0\" ></th>        <th class=\"col_heading level0 col0\" >Limit</th>        <th class=\"col_heading level0 col1\" >StatusSep</th>        <th class=\"col_heading level0 col2\" >StatusAug</th>        <th class=\"col_heading level0 col3\" >timesDelay</th>        <th class=\"col_heading level0 col4\" >sumStatus</th>        <th class=\"col_heading level0 col5\" >Default</th>    </tr></thead><tbody>\n",
       "                <tr>\n",
       "                        <th id=\"T_7f9c2086_49b1_11ea_97aa_c8348e0fc477level0_row0\" class=\"row_heading level0 row0\" >Limit</th>\n",
       "                        <td id=\"T_7f9c2086_49b1_11ea_97aa_c8348e0fc477row0_col0\" class=\"data row0 col0\" >1</td>\n",
       "                        <td id=\"T_7f9c2086_49b1_11ea_97aa_c8348e0fc477row0_col1\" class=\"data row0 col1\" >-0.27</td>\n",
       "                        <td id=\"T_7f9c2086_49b1_11ea_97aa_c8348e0fc477row0_col2\" class=\"data row0 col2\" >-0.3</td>\n",
       "                        <td id=\"T_7f9c2086_49b1_11ea_97aa_c8348e0fc477row0_col3\" class=\"data row0 col3\" >-0.24</td>\n",
       "                        <td id=\"T_7f9c2086_49b1_11ea_97aa_c8348e0fc477row0_col4\" class=\"data row0 col4\" >-0.22</td>\n",
       "                        <td id=\"T_7f9c2086_49b1_11ea_97aa_c8348e0fc477row0_col5\" class=\"data row0 col5\" >-0.15</td>\n",
       "            </tr>\n",
       "            <tr>\n",
       "                        <th id=\"T_7f9c2086_49b1_11ea_97aa_c8348e0fc477level0_row1\" class=\"row_heading level0 row1\" >StatusSep</th>\n",
       "                        <td id=\"T_7f9c2086_49b1_11ea_97aa_c8348e0fc477row1_col0\" class=\"data row1 col0\" >-0.27</td>\n",
       "                        <td id=\"T_7f9c2086_49b1_11ea_97aa_c8348e0fc477row1_col1\" class=\"data row1 col1\" >1</td>\n",
       "                        <td id=\"T_7f9c2086_49b1_11ea_97aa_c8348e0fc477row1_col2\" class=\"data row1 col2\" >0.67</td>\n",
       "                        <td id=\"T_7f9c2086_49b1_11ea_97aa_c8348e0fc477row1_col3\" class=\"data row1 col3\" >0.64</td>\n",
       "                        <td id=\"T_7f9c2086_49b1_11ea_97aa_c8348e0fc477row1_col4\" class=\"data row1 col4\" >0.7</td>\n",
       "                        <td id=\"T_7f9c2086_49b1_11ea_97aa_c8348e0fc477row1_col5\" class=\"data row1 col5\" >0.32</td>\n",
       "            </tr>\n",
       "            <tr>\n",
       "                        <th id=\"T_7f9c2086_49b1_11ea_97aa_c8348e0fc477level0_row2\" class=\"row_heading level0 row2\" >StatusAug</th>\n",
       "                        <td id=\"T_7f9c2086_49b1_11ea_97aa_c8348e0fc477row2_col0\" class=\"data row2 col0\" >-0.3</td>\n",
       "                        <td id=\"T_7f9c2086_49b1_11ea_97aa_c8348e0fc477row2_col1\" class=\"data row2 col1\" >0.67</td>\n",
       "                        <td id=\"T_7f9c2086_49b1_11ea_97aa_c8348e0fc477row2_col2\" class=\"data row2 col2\" >1</td>\n",
       "                        <td id=\"T_7f9c2086_49b1_11ea_97aa_c8348e0fc477row2_col3\" class=\"data row2 col3\" >0.66</td>\n",
       "                        <td id=\"T_7f9c2086_49b1_11ea_97aa_c8348e0fc477row2_col4\" class=\"data row2 col4\" >0.74</td>\n",
       "                        <td id=\"T_7f9c2086_49b1_11ea_97aa_c8348e0fc477row2_col5\" class=\"data row2 col5\" >0.26</td>\n",
       "            </tr>\n",
       "            <tr>\n",
       "                        <th id=\"T_7f9c2086_49b1_11ea_97aa_c8348e0fc477level0_row3\" class=\"row_heading level0 row3\" >timesDelay</th>\n",
       "                        <td id=\"T_7f9c2086_49b1_11ea_97aa_c8348e0fc477row3_col0\" class=\"data row3 col0\" >-0.24</td>\n",
       "                        <td id=\"T_7f9c2086_49b1_11ea_97aa_c8348e0fc477row3_col1\" class=\"data row3 col1\" >0.64</td>\n",
       "                        <td id=\"T_7f9c2086_49b1_11ea_97aa_c8348e0fc477row3_col2\" class=\"data row3 col2\" >0.66</td>\n",
       "                        <td id=\"T_7f9c2086_49b1_11ea_97aa_c8348e0fc477row3_col3\" class=\"data row3 col3\" >1</td>\n",
       "                        <td id=\"T_7f9c2086_49b1_11ea_97aa_c8348e0fc477row3_col4\" class=\"data row3 col4\" >0.89</td>\n",
       "                        <td id=\"T_7f9c2086_49b1_11ea_97aa_c8348e0fc477row3_col5\" class=\"data row3 col5\" >0.4</td>\n",
       "            </tr>\n",
       "            <tr>\n",
       "                        <th id=\"T_7f9c2086_49b1_11ea_97aa_c8348e0fc477level0_row4\" class=\"row_heading level0 row4\" >sumStatus</th>\n",
       "                        <td id=\"T_7f9c2086_49b1_11ea_97aa_c8348e0fc477row4_col0\" class=\"data row4 col0\" >-0.22</td>\n",
       "                        <td id=\"T_7f9c2086_49b1_11ea_97aa_c8348e0fc477row4_col1\" class=\"data row4 col1\" >0.7</td>\n",
       "                        <td id=\"T_7f9c2086_49b1_11ea_97aa_c8348e0fc477row4_col2\" class=\"data row4 col2\" >0.74</td>\n",
       "                        <td id=\"T_7f9c2086_49b1_11ea_97aa_c8348e0fc477row4_col3\" class=\"data row4 col3\" >0.89</td>\n",
       "                        <td id=\"T_7f9c2086_49b1_11ea_97aa_c8348e0fc477row4_col4\" class=\"data row4 col4\" >1</td>\n",
       "                        <td id=\"T_7f9c2086_49b1_11ea_97aa_c8348e0fc477row4_col5\" class=\"data row4 col5\" >0.39</td>\n",
       "            </tr>\n",
       "            <tr>\n",
       "                        <th id=\"T_7f9c2086_49b1_11ea_97aa_c8348e0fc477level0_row5\" class=\"row_heading level0 row5\" >Default</th>\n",
       "                        <td id=\"T_7f9c2086_49b1_11ea_97aa_c8348e0fc477row5_col0\" class=\"data row5 col0\" >-0.15</td>\n",
       "                        <td id=\"T_7f9c2086_49b1_11ea_97aa_c8348e0fc477row5_col1\" class=\"data row5 col1\" >0.32</td>\n",
       "                        <td id=\"T_7f9c2086_49b1_11ea_97aa_c8348e0fc477row5_col2\" class=\"data row5 col2\" >0.26</td>\n",
       "                        <td id=\"T_7f9c2086_49b1_11ea_97aa_c8348e0fc477row5_col3\" class=\"data row5 col3\" >0.4</td>\n",
       "                        <td id=\"T_7f9c2086_49b1_11ea_97aa_c8348e0fc477row5_col4\" class=\"data row5 col4\" >0.39</td>\n",
       "                        <td id=\"T_7f9c2086_49b1_11ea_97aa_c8348e0fc477row5_col5\" class=\"data row5 col5\" >1</td>\n",
       "            </tr>\n",
       "    </tbody></table>"
      ],
      "text/plain": [
       "<pandas.io.formats.style.Styler at 0x2524de379c8>"
      ]
     },
     "execution_count": 65,
     "metadata": {},
     "output_type": "execute_result"
    }
   ],
   "source": [
    "# heat map : correlation matrix \n",
    "# corr_headers = ['Limit', \n",
    "  #              'StatusSep', 'StatusAug', 'StatusJul', 'StatusJun', 'StatusMay', 'StatusApr',\n",
    "   #             'BillSep', 'BillAug', 'BillJul', 'BillJun', 'BillMay', 'BillApr',\n",
    "    #            'PaidSep', 'PaidAug', 'PaidJul', 'PaidJun', 'PaidMay', 'PaidApr',\n",
    "     #           'Default']\n",
    "\n",
    "\n",
    "# corrMat = credit[corr_headers].corr()\n",
    "\n",
    "credit.corr().style.background_gradient(cmap = 'seismic', \n",
    "                                        axis = None,\n",
    "                                        low = 0.4).set_precision(2)"
   ]
  },
  {
   "cell_type": "code",
   "execution_count": null,
   "metadata": {},
   "outputs": [],
   "source": []
  }
 ],
 "metadata": {
  "kernelspec": {
   "display_name": "Python 3",
   "language": "python",
   "name": "python3"
  },
  "language_info": {
   "codemirror_mode": {
    "name": "ipython",
    "version": 3
   },
   "file_extension": ".py",
   "mimetype": "text/x-python",
   "name": "python",
   "nbconvert_exporter": "python",
   "pygments_lexer": "ipython3",
   "version": "3.7.4"
  },
  "varInspector": {
   "cols": {
    "lenName": 16,
    "lenType": 16,
    "lenVar": 40
   },
   "kernels_config": {
    "python": {
     "delete_cmd_postfix": "",
     "delete_cmd_prefix": "del ",
     "library": "var_list.py",
     "varRefreshCmd": "print(var_dic_list())"
    },
    "r": {
     "delete_cmd_postfix": ") ",
     "delete_cmd_prefix": "rm(",
     "library": "var_list.r",
     "varRefreshCmd": "cat(var_dic_list()) "
    }
   },
   "oldHeight": 260.99966600000005,
   "position": {
    "height": "338.271px",
    "left": "892px",
    "right": "20px",
    "top": "66px",
    "width": "573.313px"
   },
   "types_to_exclude": [
    "module",
    "function",
    "builtin_function_or_method",
    "instance",
    "_Feature"
   ],
   "varInspector_section_display": "block",
   "window_display": false
  }
 },
 "nbformat": 4,
 "nbformat_minor": 2
}
