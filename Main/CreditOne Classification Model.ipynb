{
 "cells": [
  {
   "cell_type": "markdown",
   "metadata": {},
   "source": [
    "# Modules"
   ]
  },
  {
   "cell_type": "code",
   "execution_count": 48,
   "metadata": {},
   "outputs": [],
   "source": [
    "# numpy,pandas,scipy, math, matplotlib\n",
    "import numpy as np\n",
    "import pandas as pd\n",
    "import scipy\n",
    "from math import sqrt\n",
    "import matplotlib.pyplot as plt\n",
    "from matplotlib.colors import ListedColormap\n",
    "import seaborn as sns\n",
    "\n",
    "# for KNN\n",
    "from sklearn import neighbors, datasets\n",
    "\n",
    "# Model metrics\n",
    "from sklearn.metrics import accuracy_score\n",
    "from sklearn.metrics import cohen_kappa_score\n",
    "from sklearn.metrics import confusion_matrix\n",
    "from sklearn.metrics import recall_score \n",
    "from sklearn.metrics import precision_score \n",
    "from sklearn.metrics import f1_score \n",
    "\n",
    "# Cross validation\n",
    "from sklearn.model_selection import train_test_split\n",
    "from sklearn.model_selection import cross_val_score\n",
    "\n",
    "# Random\n",
    "import random"
   ]
  },
  {
   "cell_type": "markdown",
   "metadata": {},
   "source": [
    "# Import Data"
   ]
  },
  {
   "cell_type": "code",
   "execution_count": 2,
   "metadata": {},
   "outputs": [],
   "source": [
    "# Import Data\n",
    "credit = pd.read_csv('Data/creditOne.csv')"
   ]
  },
  {
   "cell_type": "markdown",
   "metadata": {},
   "source": [
    "# Split Data"
   ]
  },
  {
   "cell_type": "code",
   "execution_count": 3,
   "metadata": {},
   "outputs": [],
   "source": [
    "# set seed\n",
    "random.seed(123)\n",
    "np.random.seed(123)"
   ]
  },
  {
   "cell_type": "code",
   "execution_count": 4,
   "metadata": {},
   "outputs": [],
   "source": [
    "# Select dependent variables\n",
    "indepVars = credit.drop(['Default'], axis = 1)"
   ]
  },
  {
   "cell_type": "code",
   "execution_count": 5,
   "metadata": {},
   "outputs": [],
   "source": [
    "# Dependent variable\n",
    "depVar = credit.loc[: , 'Default']"
   ]
  },
  {
   "cell_type": "code",
   "execution_count": 6,
   "metadata": {},
   "outputs": [
    {
     "name": "stdout",
     "output_type": "stream",
     "text": [
      "training set looks like: (22500, 5), and the testing set like: (7500, 5)\n"
     ]
    }
   ],
   "source": [
    "x_train, x_test, y_train, y_test = train_test_split(indepVars, depVar, test_size = 0.25)\n",
    "print('training set looks like:', str(x_train.shape) + ', and the testing set like:', str(x_test.shape))"
   ]
  },
  {
   "cell_type": "markdown",
   "metadata": {},
   "source": [
    "# Balance Data"
   ]
  },
  {
   "cell_type": "code",
   "execution_count": 63,
   "metadata": {},
   "outputs": [
    {
     "name": "stdout",
     "output_type": "stream",
     "text": [
      "In train set\n",
      "Observations: 22500\n",
      "Pay: 17491\n",
      "Default: 5009\n",
      "Proportion: 3.49 : 1\n"
     ]
    }
   ],
   "source": [
    "# Note that the data set is very unbalanced.\n",
    "# Initial recall and F1 scores were low (37.31 and 46.21 % resp.)\n",
    "\n",
    "y_counts = y_train.value_counts()\n",
    "\n",
    "print('In train set')\n",
    "print('Observations:', len(y_train))\n",
    "print('Pay:', y_counts[0])\n",
    "print('Default:', y_counts[1])\n",
    "print('Proportion:', round(y_counts[0] / y_counts[1], 2), ': 1')\n"
   ]
  },
  {
   "cell_type": "code",
   "execution_count": 67,
   "metadata": {},
   "outputs": [],
   "source": [
    "# Under/over-sample to avg group size\n",
    "# 22500 / 2 = 11250\n",
    "\n",
    "# concatenate training set\n",
    "xy_train = pd.concat([x_train, y_train], axis = 1, sort = False)\n",
    "\n",
    "# Divide by 'Default'\n",
    "train_0 = xy_train[xy_train['Default'] == 0]\n",
    "train_1 = xy_train[xy_train['Default'] == 1]\n"
   ]
  },
  {
   "cell_type": "code",
   "execution_count": 76,
   "metadata": {},
   "outputs": [
    {
     "name": "stdout",
     "output_type": "stream",
     "text": [
      "Random re-sampling:\n",
      "1    11250\n",
      "0    11250\n",
      "Name: Default, dtype: int64\n"
     ]
    }
   ],
   "source": [
    "# define length of groups\n",
    "# take avg as stated above\n",
    "avg_size = int(len(xy_train)/2)\n",
    "\n",
    "# Random over-sampling of train_0\n",
    "under_0 = train_0.sample(avg_size)\n",
    "\n",
    "# Random over-sampling of train_1\n",
    "over_1 = train_1.sample(avg_size, replace = True)\n",
    "\n",
    "# concatenate the results \n",
    "xy_train_balanced = pd.concat([under_0, over_1], axis = 0)\n",
    "\n",
    "print('Random re-sampling:')\n",
    "print(xy_train_balanced.Default.value_counts())"
   ]
  },
  {
   "cell_type": "code",
   "execution_count": 77,
   "metadata": {},
   "outputs": [],
   "source": [
    "# split balanced training set into x_train_bal / y_train_bal\n",
    "x_train_bal = xy_train_balanced.drop(['Default'], axis  = 1)\n",
    "y_train_bal = xy_train_balanced.loc[:, 'Default']"
   ]
  },
  {
   "cell_type": "markdown",
   "metadata": {},
   "source": [
    "# Train Model"
   ]
  },
  {
   "cell_type": "code",
   "execution_count": 78,
   "metadata": {},
   "outputs": [],
   "source": [
    "# KNN Model\n",
    "\n",
    "# Create an instance of Neighbours Classifier\n",
    "knn_model = neighbors.KNeighborsClassifier(n_neighbors = 25, weights = 'distance')\n",
    "\n",
    "# Fit that to the train data\n",
    "# Note: the model expects an array as y variable (df['array'])\n",
    "credit_knn = knn_model.fit(x_train_bal, y_train_bal)\n"
   ]
  },
  {
   "cell_type": "code",
   "execution_count": 79,
   "metadata": {},
   "outputs": [],
   "source": [
    "# make predictions\n",
    "predictions = credit_knn.predict(x_test)"
   ]
  },
  {
   "cell_type": "markdown",
   "metadata": {},
   "source": [
    "# Check Results"
   ]
  },
  {
   "cell_type": "code",
   "execution_count": 80,
   "metadata": {},
   "outputs": [
    {
     "name": "stdout",
     "output_type": "stream",
     "text": [
      "Accuracy : 75.44%\n",
      "Kappa : 32.90%\n",
      "\n",
      "Recall : 54.09%\n",
      "Precision : 44.56%\n",
      "F1 : 48.86%\n"
     ]
    }
   ],
   "source": [
    "# Check performance\n",
    "# note : accuracy and kappa are symmetrical\n",
    "# recall, precision and f1 are not\n",
    "y_true = y_test\n",
    "y_pred = predictions\n",
    "\n",
    "accuracy = accuracy_score(y_true , y_pred)\n",
    "kappa = cohen_kappa_score(y_true , y_pred)\n",
    "recall = recall_score(y_true , y_pred)\n",
    "precision = precision_score(y_true , y_pred)\n",
    "f1 = f1_score(y_true , y_pred)\n",
    "print (\"Accuracy : %s\" % \"{0:.2%}\".format(accuracy))\n",
    "print (\"Kappa : %s\" % \"{0:.2%}\".format(kappa))\n",
    "print (\"\")\n",
    "print (\"Recall : %s\" % \"{0:.2%}\".format(recall))\n",
    "print (\"Precision : %s\" % \"{0:.2%}\".format(precision))\n",
    "print (\"F1 : %s\" % \"{0:.2%}\".format(f1))"
   ]
  },
  {
   "cell_type": "code",
   "execution_count": 81,
   "metadata": {},
   "outputs": [
    {
     "name": "stdout",
     "output_type": "stream",
     "text": [
      "[[4778 1095]\n",
      " [ 747  880]]\n"
     ]
    }
   ],
   "source": [
    "# Confusion Matrix\n",
    "\n",
    "# Note : false positives are potentially costly\n",
    "# number of fp in initial model : 1020\n",
    "\n",
    "# [[5480  393]\n",
    "#  [1020  607]]\n",
    "\n",
    "\n",
    "# First, change 0/1 into 'Pay'/'Default'\n",
    "# for df y_test:\n",
    "default_int_to_object = {0: 'Pay', 1: 'Default'}\n",
    "y_test_obj = y_test.replace(default_int_to_object)\n",
    "# for array predictions\n",
    "predictions_obj = ['Default' if x == 1 else 'Pay' for x in predictions]\n",
    "\n",
    "# Labels\n",
    "labels = ['Pay', 'Default']\n",
    "\n",
    "cm = confusion_matrix(y_true = y_test_obj,\n",
    "                      y_pred = predictions_obj,\n",
    "                      labels = labels)\n",
    "print(cm)\n"
   ]
  },
  {
   "cell_type": "code",
   "execution_count": 82,
   "metadata": {},
   "outputs": [
    {
     "data": {
      "image/png": "[encoded data removed]",
      "text/plain": [
       "<Figure size 432x288 with 2 Axes>"
      ]
     },
     "metadata": {
      "needs_background": "light"
     },
     "output_type": "display_data"
    }
   ],
   "source": [
    "fig = plt.figure()\n",
    "ax = fig.add_subplot(111)\n",
    "cax = ax.matshow(cm)\n",
    "plt.title('Name of Confusion Matrix')\n",
    "fig.colorbar(cax)\n",
    "ax.set_xticklabels([''] + labels)\n",
    "ax.set_yticklabels([''] + labels)\n",
    "plt.xlabel('Predicted')\n",
    "plt.ylabel('True')\n",
    "plt.show()"
   ]
  },
  {
   "cell_type": "code",
   "execution_count": null,
   "metadata": {},
   "outputs": [],
   "source": []
  }
 ],
 "metadata": {
  "kernelspec": {
   "display_name": "Python 3",
   "language": "python",
   "name": "python3"
  },
  "language_info": {
   "codemirror_mode": {
    "name": "ipython",
    "version": 3
   },
   "file_extension": ".py",
   "mimetype": "text/x-python",
   "name": "python",
   "nbconvert_exporter": "python",
   "pygments_lexer": "ipython3",
   "version": "3.7.4"
  },
  "varInspector": {
   "cols": {
    "lenName": 16,
    "lenType": 16,
    "lenVar": 40
   },
   "kernels_config": {
    "python": {
     "delete_cmd_postfix": "",
     "delete_cmd_prefix": "del ",
     "library": "var_list.py",
     "varRefreshCmd": "print(var_dic_list())"
    },
    "r": {
     "delete_cmd_postfix": ") ",
     "delete_cmd_prefix": "rm(",
     "library": "var_list.r",
     "varRefreshCmd": "cat(var_dic_list()) "
    }
   },
   "position": {
    "height": "222.99px",
    "left": "1113px",
    "right": "20px",
    "top": "137px",
    "width": "350px"
   },
   "types_to_exclude": [
    "module",
    "function",
    "builtin_function_or_method",
    "instance",
    "_Feature"
   ],
   "window_display": false
  }
 },
 "nbformat": 4,
 "nbformat_minor": 2
}
